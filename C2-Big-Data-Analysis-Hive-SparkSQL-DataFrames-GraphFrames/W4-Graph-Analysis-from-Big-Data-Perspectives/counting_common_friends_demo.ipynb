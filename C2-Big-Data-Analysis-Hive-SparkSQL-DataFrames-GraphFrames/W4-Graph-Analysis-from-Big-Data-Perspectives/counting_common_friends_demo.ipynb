{
 "cells": [
  {
   "cell_type": "markdown",
   "metadata": {},
   "source": [
    "**import statement**"
   ]
  },
  {
   "cell_type": "code",
   "execution_count": 1,
   "metadata": {},
   "outputs": [],
   "source": [
    "# from pyspark.sql import SparkSession\n",
    "# sparkSession = SparkSession.builder.enableHiveSupport().master(\"local\").getOrCreate()\n",
    "from pyspark import SparkContext\n",
    "from pyspark.sql import SparkSession\n",
    "sc = SparkContext()\n",
    "sparkSession = SparkSession(sc)\n",
    "\n",
    "from pyspark.sql.types import StructType, StructField, IntegerType, StringType \n",
    "from pyspark.sql import Row"
   ]
  },
  {
   "cell_type": "markdown",
   "metadata": {},
   "source": [
    "**Graph in Edge list**"
   ]
  },
  {
   "cell_type": "code",
   "execution_count": 2,
   "metadata": {},
   "outputs": [],
   "source": [
    "edgeList = [(1, 2), (1, 3), (1, 4), (2, 3), (2, 5), (3, 4), (3, 5), (3, 6), (3, 7)] \n",
    "graphData = sparkSession.sparkContext.parallelize(edgeList).map(lambda (src, dst): Row(src, dst))"
   ]
  },
  {
   "cell_type": "markdown",
   "metadata": {},
   "source": [
    "**Define data frame schema**"
   ]
  },
  {
   "cell_type": "code",
   "execution_count": 3,
   "metadata": {},
   "outputs": [],
   "source": [
    "graphSchemaAB = StructType([StructField('A', IntegerType(), nullable=False),\n",
    "                            StructField('B', StringType(), nullable=False)])\n",
    "graphSchemaBCl = StructType([StructField('B', IntegerType(), nullable=False),\n",
    "                            StructField('C1', StringType(), nullable=False)])"
   ]
  },
  {
   "cell_type": "markdown",
   "metadata": {},
   "source": [
    "**create dfs**"
   ]
  },
  {
   "cell_type": "code",
   "execution_count": 4,
   "metadata": {},
   "outputs": [],
   "source": [
    "abDF = sparkSession.createDataFrame(graphData, graphSchemaAB)\n",
    "bcDF = sparkSession.createDataFrame(graphData, graphSchemaBCl) "
   ]
  },
  {
   "cell_type": "code",
   "execution_count": 5,
   "metadata": {},
   "outputs": [
    {
     "name": "stdout",
     "output_type": "stream",
     "text": [
      "+---+---+\n",
      "|  A|  B|\n",
      "+---+---+\n",
      "|  1|  2|\n",
      "|  1|  3|\n",
      "|  1|  4|\n",
      "|  2|  3|\n",
      "|  2|  5|\n",
      "|  3|  4|\n",
      "|  3|  5|\n",
      "|  3|  6|\n",
      "|  3|  7|\n",
      "+---+---+\n",
      "\n"
     ]
    }
   ],
   "source": [
    "abDF.show()"
   ]
  },
  {
   "cell_type": "code",
   "execution_count": 6,
   "metadata": {},
   "outputs": [
    {
     "name": "stdout",
     "output_type": "stream",
     "text": [
      "+---+---+\n",
      "|  B| C1|\n",
      "+---+---+\n",
      "|  1|  2|\n",
      "|  1|  3|\n",
      "|  1|  4|\n",
      "|  2|  3|\n",
      "|  2|  5|\n",
      "|  3|  4|\n",
      "|  3|  5|\n",
      "|  3|  6|\n",
      "|  3|  7|\n",
      "+---+---+\n",
      "\n"
     ]
    }
   ],
   "source": [
    "bcDF.show()"
   ]
  },
  {
   "cell_type": "markdown",
   "metadata": {},
   "source": [
    "**test without reserved pairs**"
   ]
  },
  {
   "cell_type": "code",
   "execution_count": 52,
   "metadata": {},
   "outputs": [
    {
     "name": "stdout",
     "output_type": "stream",
     "text": [
      "+---+---+-----+\n",
      "|  A| C1|count|\n",
      "+---+---+-----+\n",
      "|  1|  3|    1|\n",
      "|  1|  4|    1|\n",
      "|  1|  5|    2|\n",
      "|  1|  6|    1|\n",
      "|  1|  7|    1|\n",
      "|  2|  4|    1|\n",
      "|  2|  5|    1|\n",
      "|  2|  6|    1|\n",
      "|  2|  7|    1|\n",
      "+---+---+-----+\n",
      "\n"
     ]
    }
   ],
   "source": [
    "abDF.join(bcDF, on=\"B\").groupBy(\"A\", \"C1\").count().orderBy(\"A\", \"C1\").show()"
   ]
  },
  {
   "cell_type": "markdown",
   "metadata": {},
   "source": [
    "The results are not right because the following:<br>\n",
    "if we have A -> B -> C then B is a mutual friend, no matter what B > C or B < C <br>\n",
    "in edge list, we include only consider pairs (B,C) where B < C<br>\n",
    "so if we have A -> B, C -> B then B -> C is not included => wrong results"
   ]
  },
  {
   "cell_type": "code",
   "execution_count": 7,
   "metadata": {},
   "outputs": [],
   "source": [
    "ab1DF = abDF.union(abDF.select(\"B\", \"A\"))\n",
    "# ab1DF.show()"
   ]
  },
  {
   "cell_type": "code",
   "execution_count": 8,
   "metadata": {},
   "outputs": [],
   "source": [
    "bc1DF = bcDF.union(bcDF.select(\"C1\", \"B\"))"
   ]
  },
  {
   "cell_type": "code",
   "execution_count": 12,
   "metadata": {},
   "outputs": [],
   "source": [
    "jonDF = ab1DF.join(bc1DF, on=\"B\")"
   ]
  },
  {
   "cell_type": "code",
   "execution_count": 41,
   "metadata": {},
   "outputs": [],
   "source": [
    "# jonDF.drop('B').show()"
   ]
  },
  {
   "cell_type": "markdown",
   "metadata": {},
   "source": [
    "**number of common friends**"
   ]
  },
  {
   "cell_type": "code",
   "execution_count": 14,
   "metadata": {},
   "outputs": [
    {
     "name": "stdout",
     "output_type": "stream",
     "text": [
      "+---+---+-----+\n",
      "|  A| C1|count|\n",
      "+---+---+-----+\n",
      "|  1|  3|    2|\n",
      "|  1|  6|    1|\n",
      "|  1|  4|    1|\n",
      "|  1|  2|    1|\n",
      "|  1|  7|    1|\n",
      "|  1|  5|    2|\n",
      "|  2|  6|    1|\n",
      "|  2|  5|    1|\n",
      "|  2|  7|    1|\n",
      "|  2|  4|    2|\n",
      "|  2|  3|    2|\n",
      "|  3|  5|    1|\n",
      "|  3|  4|    1|\n",
      "|  4|  6|    1|\n",
      "|  4|  7|    1|\n",
      "|  4|  5|    1|\n",
      "|  5|  6|    1|\n",
      "|  5|  7|    1|\n",
      "|  6|  7|    1|\n",
      "+---+---+-----+\n",
      "\n"
     ]
    }
   ],
   "source": [
    "jonDF.drop('B').groupBy(\"A\", \"C1\").count().filter(\"A < C1\").orderBy('A').show()"
   ]
  },
  {
   "cell_type": "markdown",
   "metadata": {},
   "source": [
    "**Triangles Count**"
   ]
  },
  {
   "cell_type": "code",
   "execution_count": 20,
   "metadata": {},
   "outputs": [],
   "source": [
    "# ab1DF.show()"
   ]
  },
  {
   "cell_type": "code",
   "execution_count": 21,
   "metadata": {},
   "outputs": [],
   "source": [
    "# bc1DF.show()"
   ]
  },
  {
   "cell_type": "code",
   "execution_count": 17,
   "metadata": {},
   "outputs": [],
   "source": [
    "ac2DF = ab1DF.select(\"A\", \"B\").withColumnRenamed(\"B\", \"C2\")"
   ]
  },
  {
   "cell_type": "code",
   "execution_count": 22,
   "metadata": {},
   "outputs": [],
   "source": [
    "# ac2DF.show()"
   ]
  },
  {
   "cell_type": "code",
   "execution_count": 23,
   "metadata": {},
   "outputs": [],
   "source": [
    "triDF = ab1DF.join(bc1DF, on=\"B\")\\\n",
    "             .join(ac2DF, on=\"A\")\\\n",
    "             .filter(\"C1 = C2\")"
   ]
  },
  {
   "cell_type": "code",
   "execution_count": 34,
   "metadata": {},
   "outputs": [
    {
     "name": "stdout",
     "output_type": "stream",
     "text": [
      "+---+---+---+---+\n",
      "|  A|  B| C1| C2|\n",
      "+---+---+---+---+\n",
      "|  1|  3|  4|  4|\n",
      "|  4|  3|  1|  1|\n",
      "|  3|  5|  2|  2|\n",
      "|  3|  1|  2|  2|\n",
      "|  2|  3|  1|  1|\n",
      "|  2|  3|  5|  5|\n",
      "|  3|  2|  5|  5|\n",
      "|  1|  4|  3|  3|\n",
      "|  1|  2|  3|  3|\n",
      "|  3|  4|  1|  1|\n",
      "|  3|  2|  1|  1|\n",
      "|  5|  2|  3|  3|\n",
      "|  2|  5|  3|  3|\n",
      "|  2|  1|  3|  3|\n",
      "|  4|  1|  3|  3|\n",
      "|  1|  3|  2|  2|\n",
      "|  3|  1|  4|  4|\n",
      "|  5|  3|  2|  2|\n",
      "+---+---+---+---+\n",
      "\n"
     ]
    }
   ],
   "source": [
    "triDF.show()"
   ]
  },
  {
   "cell_type": "code",
   "execution_count": 30,
   "metadata": {},
   "outputs": [],
   "source": [
    "from pyspark.sql.functions import array, col, explode"
   ]
  },
  {
   "cell_type": "markdown",
   "metadata": {},
   "source": []
  },
  {
   "cell_type": "code",
   "execution_count": 33,
   "metadata": {},
   "outputs": [
    {
     "name": "stdout",
     "output_type": "stream",
     "text": [
      "+--------------+-----+\n",
      "|triangleVertex|count|\n",
      "+--------------+-----+\n",
      "|             3|   18|\n",
      "|             5|    6|\n",
      "|             1|   12|\n",
      "|             4|    6|\n",
      "|             2|   12|\n",
      "+--------------+-----+\n",
      "\n"
     ]
    }
   ],
   "source": [
    "triDF.select(array(col(\"A\"), col(\"B\"), col('C1')).alias(\"triangleVerticies\"))\\\n",
    "     .select(explode(\"triangleVerticies\").alias(\"triangleVertex\"))\\\n",
    "     .groupBy(\"triangleVertex\")\\\n",
    "     .count()\\\n",
    "     .show(100)"
   ]
  },
  {
   "cell_type": "markdown",
   "metadata": {},
   "source": [
    "why the results are multiplied by 6?"
   ]
  },
  {
   "cell_type": "code",
   "execution_count": 35,
   "metadata": {},
   "outputs": [
    {
     "name": "stdout",
     "output_type": "stream",
     "text": [
      "+---+---+\n",
      "|  A|  B|\n",
      "+---+---+\n",
      "|  1|  2|\n",
      "|  1|  3|\n",
      "|  1|  4|\n",
      "|  2|  3|\n",
      "|  2|  5|\n",
      "|  3|  4|\n",
      "|  3|  5|\n",
      "|  3|  6|\n",
      "|  3|  7|\n",
      "+---+---+\n",
      "\n"
     ]
    }
   ],
   "source": [
    "abDF.show()"
   ]
  },
  {
   "cell_type": "code",
   "execution_count": 36,
   "metadata": {},
   "outputs": [
    {
     "name": "stdout",
     "output_type": "stream",
     "text": [
      "+---+---+\n",
      "|  B| C1|\n",
      "+---+---+\n",
      "|  1|  2|\n",
      "|  1|  3|\n",
      "|  1|  4|\n",
      "|  2|  3|\n",
      "|  2|  5|\n",
      "|  3|  4|\n",
      "|  3|  5|\n",
      "|  3|  6|\n",
      "|  3|  7|\n",
      "+---+---+\n",
      "\n"
     ]
    }
   ],
   "source": [
    "bcDF.show()"
   ]
  },
  {
   "cell_type": "code",
   "execution_count": 39,
   "metadata": {},
   "outputs": [
    {
     "name": "stdout",
     "output_type": "stream",
     "text": [
      "+---+---+\n",
      "|  A| C2|\n",
      "+---+---+\n",
      "|  1|  2|\n",
      "|  1|  3|\n",
      "|  1|  4|\n",
      "|  2|  3|\n",
      "|  2|  5|\n",
      "|  3|  4|\n",
      "|  3|  5|\n",
      "|  3|  6|\n",
      "|  3|  7|\n",
      "+---+---+\n",
      "\n"
     ]
    }
   ],
   "source": [
    "acDF = abDF.select(\"A\", \"B\").withColumnRenamed(\"B\", \"C2\")\n",
    "acDF.show()"
   ]
  },
  {
   "cell_type": "code",
   "execution_count": 40,
   "metadata": {},
   "outputs": [
    {
     "name": "stdout",
     "output_type": "stream",
     "text": [
      "+---+---+---+---+\n",
      "|  A|  B| C1| C2|\n",
      "+---+---+---+---+\n",
      "|  1|  3|  4|  4|\n",
      "|  1|  2|  3|  3|\n",
      "|  2|  3|  5|  5|\n",
      "+---+---+---+---+\n",
      "\n"
     ]
    }
   ],
   "source": [
    "triDF1 = abDF.join(bcDF, on=\"B\").join(acDF, on=\"A\").filter(\"C1 = C2\")\n",
    "triDF1.show()"
   ]
  },
  {
   "cell_type": "markdown",
   "metadata": {},
   "source": [
    "**number of triangle**\n",
    "if we have A -> B -> C -> A then (A,B,C) is a triangle, without depending on direction"
   ]
  },
  {
   "cell_type": "code",
   "execution_count": 47,
   "metadata": {},
   "outputs": [
    {
     "name": "stdout",
     "output_type": "stream",
     "text": [
      "+--------------+-----+\n",
      "|triangleVertex|count|\n",
      "+--------------+-----+\n",
      "|             4|    1|\n",
      "|             5|    1|\n",
      "|             2|    2|\n",
      "|             1|    2|\n",
      "|             3|    3|\n",
      "+--------------+-----+\n",
      "\n"
     ]
    }
   ],
   "source": [
    "triDF1.select(array(col(\"A\"), col(\"B\"), col(\"C1\")).alias(\"triangleVertices\"))\\\n",
    "      .select(explode(\"triangleVertices\").alias(\"triangleVertex\"))\\\n",
    "      .groupBy(\"triangleVertex\")\\\n",
    "      .count()\\\n",
    "      .orderBy(\"count\")\\\n",
    "      .show()"
   ]
  },
  {
   "cell_type": "code",
   "execution_count": null,
   "metadata": {},
   "outputs": [],
   "source": []
  }
 ],
 "metadata": {
  "kernelspec": {
   "display_name": "Python 2",
   "language": "python",
   "name": "python2"
  },
  "language_info": {
   "codemirror_mode": {
    "name": "ipython",
    "version": 2
   },
   "file_extension": ".py",
   "mimetype": "text/x-python",
   "name": "python",
   "nbconvert_exporter": "python",
   "pygments_lexer": "ipython2",
   "version": "2.7.12"
  }
 },
 "nbformat": 4,
 "nbformat_minor": 2
}
